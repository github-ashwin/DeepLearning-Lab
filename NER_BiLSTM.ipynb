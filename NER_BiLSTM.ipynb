{
  "nbformat": 4,
  "nbformat_minor": 0,
  "metadata": {
    "colab": {
      "provenance": [],
      "authorship_tag": "ABX9TyPJPZjwefmQFXbLxsLOny5f",
      "include_colab_link": true
    },
    "kernelspec": {
      "name": "python3",
      "display_name": "Python 3"
    },
    "language_info": {
      "name": "python"
    }
  },
  "cells": [
    {
      "cell_type": "markdown",
      "metadata": {
        "id": "view-in-github",
        "colab_type": "text"
      },
      "source": [
        "<a href=\"https://colab.research.google.com/github/github-ashwin/DeepLearning-Lab/blob/main/NER_BiLSTM.ipynb\" target=\"_parent\"><img src=\"https://colab.research.google.com/assets/colab-badge.svg\" alt=\"Open In Colab\"/></a>"
      ]
    },
    {
      "cell_type": "code",
      "execution_count": 1,
      "metadata": {
        "id": "gqj5td7oTVph"
      },
      "outputs": [],
      "source": [
        "from tensorflow.keras.models import Model\n",
        "from tensorflow.keras.layers import Input, Embedding, Bidirectional, LSTM, TimeDistributed, Dense\n",
        "from tensorflow.keras.preprocessing.sequence import pad_sequences\n",
        "import numpy as np"
      ]
    },
    {
      "cell_type": "code",
      "source": [
        "# Training sentences as strings\n",
        "train_sentences = [\n",
        "    \"John lives in New York\",\n",
        "    \"Mary works at Google\",\n",
        "    \"Steve is from Paris\",\n",
        "    \"Alice moved to San Francisco\",\n",
        "    \"Bob joined Microsoft last year\",\n",
        "    \"Eve visited Berlin and London\",\n",
        "    \"Charlie is from Los Angeles\",\n",
        "    \"Diana works for Amazon\",\n",
        "    \"Frank went to Tokyo last month\"\n",
        "]\n",
        "\n",
        "# Corresponding NER labels in IOB format for the tokens in the sentences\n",
        "train_labels = [\n",
        "    [\"B-PER\", \"O\", \"O\", \"B-LOC\", \"I-LOC\"],\n",
        "    [\"B-PER\", \"O\", \"O\", \"B-ORG\"],\n",
        "    [\"B-PER\", \"O\", \"O\", \"B-LOC\"],\n",
        "    [\"B-PER\", \"O\", \"O\", \"B-LOC\", \"I-LOC\"],\n",
        "    [\"B-PER\", \"O\", \"B-ORG\", \"O\", \"O\"],\n",
        "    [\"B-PER\", \"O\", \"B-LOC\", \"O\", \"B-LOC\"],\n",
        "    [\"B-PER\", \"O\", \"O\", \"B-LOC\", \"I-LOC\"],\n",
        "    [\"B-PER\", \"O\", \"O\", \"B-ORG\"],\n",
        "    [\"B-PER\", \"O\", \"O\", \"B-LOC\", \"O\", \"O\"]\n",
        "]"
      ],
      "metadata": {
        "id": "2RWea5KsTeiG"
      },
      "execution_count": 3,
      "outputs": []
    },
    {
      "cell_type": "code",
      "source": [
        "# Preprocessing: Tokenize the sentences by splitting on spaces\n",
        "tokenized_sentences = [sent.split() for sent in train_sentences]"
      ],
      "metadata": {
        "id": "d7-8nTPjTsJH"
      },
      "execution_count": 4,
      "outputs": []
    },
    {
      "cell_type": "code",
      "source": [
        "# Create word vocabulary from training data\n",
        "unique_words = set(word for sent in tokenized_sentences for word in sent)\n",
        "\n",
        "# Add special tokens for padding and unknown words\n",
        "word2idx = {word: idx + 2 for idx, word in enumerate(unique_words)}\n",
        "word2idx[\"PAD\"] = 0  # Padding token\n",
        "word2idx[\"UNK\"] = 1  # Unknown token (for words not in vocabulary)"
      ],
      "metadata": {
        "id": "EByPDR0_TsgH"
      },
      "execution_count": 5,
      "outputs": []
    },
    {
      "cell_type": "code",
      "source": [
        "# Create tag vocabulary\n",
        "unique_tags = set(tag for sent_tags in train_labels for tag in sent_tags)\n",
        "tag2idx = {tag: idx for idx, tag in enumerate(sorted(unique_tags))}\n",
        "idx2tag = {idx: tag for tag, idx in tag2idx.items()}"
      ],
      "metadata": {
        "id": "ttvGPz4zT6BU"
      },
      "execution_count": 6,
      "outputs": []
    },
    {
      "cell_type": "code",
      "source": [
        "# Parameters\n",
        "max_seq_len = 10  # Maximum sentence length to pad/truncate to\n",
        "num_tags = len(tag2idx)"
      ],
      "metadata": {
        "id": "VSEcJ82GT9aX"
      },
      "execution_count": 7,
      "outputs": []
    },
    {
      "cell_type": "code",
      "source": [
        "# Convert words in sentences to their indices\n",
        "X = []\n",
        "for sent in tokenized_sentences:\n",
        "    seq = [word2idx.get(word, word2idx[\"UNK\"]) for word in sent]\n",
        "    X.append(seq)\n",
        "\n",
        "X_padded = pad_sequences(X, maxlen=max_seq_len, padding='post', value=word2idx[\"PAD\"])"
      ],
      "metadata": {
        "id": "qsRAs7AHUGAo"
      },
      "execution_count": 9,
      "outputs": []
    },
    {
      "cell_type": "code",
      "source": [
        "# Convert labels to indices and pad\n",
        "y = []\n",
        "for sent_tags in train_labels:\n",
        "    label_seq = [tag2idx[tag] for tag in sent_tags]\n",
        "    y.append(label_seq)\n",
        "\n",
        "y_padded = pad_sequences(y, maxlen=max_seq_len, padding='post', value=tag2idx[\"O\"])\n",
        "\n",
        "# One-hot encode labels for model training\n",
        "y_one_hot = np.array([np.eye(num_tags)[seq] for seq in y_padded])"
      ],
      "metadata": {
        "id": "aGrWYaocUjdi"
      },
      "execution_count": 10,
      "outputs": []
    },
    {
      "cell_type": "code",
      "source": [
        "# Build model\n",
        "input_layer = Input(shape=(max_seq_len,))\n",
        "embedding_layer = Embedding(input_dim=len(word2idx), output_dim=64, input_length=max_seq_len)(input_layer)\n",
        "bilstm_layer = Bidirectional(LSTM(units=32, return_sequences=True))(embedding_layer)\n",
        "output_layer = TimeDistributed(Dense(num_tags, activation='softmax'))(bilstm_layer)\n",
        "\n",
        "model = Model(input_layer, output_layer)\n",
        "\n",
        "model.compile(optimizer='adam', loss='categorical_crossentropy', metrics=['accuracy'])\n",
        "model.summary()"
      ],
      "metadata": {
        "colab": {
          "base_uri": "https://localhost:8080/",
          "height": 307
        },
        "id": "sTLagAvPUnRE",
        "outputId": "7bc9e61c-abc4-40dc-a777-0ee5ef61f48d"
      },
      "execution_count": 11,
      "outputs": [
        {
          "output_type": "stream",
          "name": "stderr",
          "text": [
            "/usr/local/lib/python3.12/dist-packages/keras/src/layers/core/embedding.py:97: UserWarning: Argument `input_length` is deprecated. Just remove it.\n",
            "  warnings.warn(\n"
          ]
        },
        {
          "output_type": "display_data",
          "data": {
            "text/plain": [
              "\u001b[1mModel: \"functional\"\u001b[0m\n"
            ],
            "text/html": [
              "<pre style=\"white-space:pre;overflow-x:auto;line-height:normal;font-family:Menlo,'DejaVu Sans Mono',consolas,'Courier New',monospace\"><span style=\"font-weight: bold\">Model: \"functional\"</span>\n",
              "</pre>\n"
            ]
          },
          "metadata": {}
        },
        {
          "output_type": "display_data",
          "data": {
            "text/plain": [
              "┏━━━━━━━━━━━━━━━━━━━━━━━━━━━━━━━━━┳━━━━━━━━━━━━━━━━━━━━━━━━┳━━━━━━━━━━━━━━━┓\n",
              "┃\u001b[1m \u001b[0m\u001b[1mLayer (type)                   \u001b[0m\u001b[1m \u001b[0m┃\u001b[1m \u001b[0m\u001b[1mOutput Shape          \u001b[0m\u001b[1m \u001b[0m┃\u001b[1m \u001b[0m\u001b[1m      Param #\u001b[0m\u001b[1m \u001b[0m┃\n",
              "┡━━━━━━━━━━━━━━━━━━━━━━━━━━━━━━━━━╇━━━━━━━━━━━━━━━━━━━━━━━━╇━━━━━━━━━━━━━━━┩\n",
              "│ input_layer (\u001b[38;5;33mInputLayer\u001b[0m)        │ (\u001b[38;5;45mNone\u001b[0m, \u001b[38;5;34m10\u001b[0m)             │             \u001b[38;5;34m0\u001b[0m │\n",
              "├─────────────────────────────────┼────────────────────────┼───────────────┤\n",
              "│ embedding (\u001b[38;5;33mEmbedding\u001b[0m)           │ (\u001b[38;5;45mNone\u001b[0m, \u001b[38;5;34m10\u001b[0m, \u001b[38;5;34m64\u001b[0m)         │         \u001b[38;5;34m2,560\u001b[0m │\n",
              "├─────────────────────────────────┼────────────────────────┼───────────────┤\n",
              "│ bidirectional (\u001b[38;5;33mBidirectional\u001b[0m)   │ (\u001b[38;5;45mNone\u001b[0m, \u001b[38;5;34m10\u001b[0m, \u001b[38;5;34m64\u001b[0m)         │        \u001b[38;5;34m24,832\u001b[0m │\n",
              "├─────────────────────────────────┼────────────────────────┼───────────────┤\n",
              "│ time_distributed                │ (\u001b[38;5;45mNone\u001b[0m, \u001b[38;5;34m10\u001b[0m, \u001b[38;5;34m5\u001b[0m)          │           \u001b[38;5;34m325\u001b[0m │\n",
              "│ (\u001b[38;5;33mTimeDistributed\u001b[0m)               │                        │               │\n",
              "└─────────────────────────────────┴────────────────────────┴───────────────┘\n"
            ],
            "text/html": [
              "<pre style=\"white-space:pre;overflow-x:auto;line-height:normal;font-family:Menlo,'DejaVu Sans Mono',consolas,'Courier New',monospace\">┏━━━━━━━━━━━━━━━━━━━━━━━━━━━━━━━━━┳━━━━━━━━━━━━━━━━━━━━━━━━┳━━━━━━━━━━━━━━━┓\n",
              "┃<span style=\"font-weight: bold\"> Layer (type)                    </span>┃<span style=\"font-weight: bold\"> Output Shape           </span>┃<span style=\"font-weight: bold\">       Param # </span>┃\n",
              "┡━━━━━━━━━━━━━━━━━━━━━━━━━━━━━━━━━╇━━━━━━━━━━━━━━━━━━━━━━━━╇━━━━━━━━━━━━━━━┩\n",
              "│ input_layer (<span style=\"color: #0087ff; text-decoration-color: #0087ff\">InputLayer</span>)        │ (<span style=\"color: #00d7ff; text-decoration-color: #00d7ff\">None</span>, <span style=\"color: #00af00; text-decoration-color: #00af00\">10</span>)             │             <span style=\"color: #00af00; text-decoration-color: #00af00\">0</span> │\n",
              "├─────────────────────────────────┼────────────────────────┼───────────────┤\n",
              "│ embedding (<span style=\"color: #0087ff; text-decoration-color: #0087ff\">Embedding</span>)           │ (<span style=\"color: #00d7ff; text-decoration-color: #00d7ff\">None</span>, <span style=\"color: #00af00; text-decoration-color: #00af00\">10</span>, <span style=\"color: #00af00; text-decoration-color: #00af00\">64</span>)         │         <span style=\"color: #00af00; text-decoration-color: #00af00\">2,560</span> │\n",
              "├─────────────────────────────────┼────────────────────────┼───────────────┤\n",
              "│ bidirectional (<span style=\"color: #0087ff; text-decoration-color: #0087ff\">Bidirectional</span>)   │ (<span style=\"color: #00d7ff; text-decoration-color: #00d7ff\">None</span>, <span style=\"color: #00af00; text-decoration-color: #00af00\">10</span>, <span style=\"color: #00af00; text-decoration-color: #00af00\">64</span>)         │        <span style=\"color: #00af00; text-decoration-color: #00af00\">24,832</span> │\n",
              "├─────────────────────────────────┼────────────────────────┼───────────────┤\n",
              "│ time_distributed                │ (<span style=\"color: #00d7ff; text-decoration-color: #00d7ff\">None</span>, <span style=\"color: #00af00; text-decoration-color: #00af00\">10</span>, <span style=\"color: #00af00; text-decoration-color: #00af00\">5</span>)          │           <span style=\"color: #00af00; text-decoration-color: #00af00\">325</span> │\n",
              "│ (<span style=\"color: #0087ff; text-decoration-color: #0087ff\">TimeDistributed</span>)               │                        │               │\n",
              "└─────────────────────────────────┴────────────────────────┴───────────────┘\n",
              "</pre>\n"
            ]
          },
          "metadata": {}
        },
        {
          "output_type": "display_data",
          "data": {
            "text/plain": [
              "\u001b[1m Total params: \u001b[0m\u001b[38;5;34m27,717\u001b[0m (108.27 KB)\n"
            ],
            "text/html": [
              "<pre style=\"white-space:pre;overflow-x:auto;line-height:normal;font-family:Menlo,'DejaVu Sans Mono',consolas,'Courier New',monospace\"><span style=\"font-weight: bold\"> Total params: </span><span style=\"color: #00af00; text-decoration-color: #00af00\">27,717</span> (108.27 KB)\n",
              "</pre>\n"
            ]
          },
          "metadata": {}
        },
        {
          "output_type": "display_data",
          "data": {
            "text/plain": [
              "\u001b[1m Trainable params: \u001b[0m\u001b[38;5;34m27,717\u001b[0m (108.27 KB)\n"
            ],
            "text/html": [
              "<pre style=\"white-space:pre;overflow-x:auto;line-height:normal;font-family:Menlo,'DejaVu Sans Mono',consolas,'Courier New',monospace\"><span style=\"font-weight: bold\"> Trainable params: </span><span style=\"color: #00af00; text-decoration-color: #00af00\">27,717</span> (108.27 KB)\n",
              "</pre>\n"
            ]
          },
          "metadata": {}
        },
        {
          "output_type": "display_data",
          "data": {
            "text/plain": [
              "\u001b[1m Non-trainable params: \u001b[0m\u001b[38;5;34m0\u001b[0m (0.00 B)\n"
            ],
            "text/html": [
              "<pre style=\"white-space:pre;overflow-x:auto;line-height:normal;font-family:Menlo,'DejaVu Sans Mono',consolas,'Courier New',monospace\"><span style=\"font-weight: bold\"> Non-trainable params: </span><span style=\"color: #00af00; text-decoration-color: #00af00\">0</span> (0.00 B)\n",
              "</pre>\n"
            ]
          },
          "metadata": {}
        }
      ]
    },
    {
      "cell_type": "code",
      "source": [
        "# Train model\n",
        "history = model.fit(\n",
        "    X_padded, y_one_hot,\n",
        "    batch_size=2,\n",
        "    epochs=20,\n",
        "    validation_split=0.2,\n",
        "    verbose=1\n",
        ")"
      ],
      "metadata": {
        "colab": {
          "base_uri": "https://localhost:8080/"
        },
        "id": "xhlrLTbbUqCa",
        "outputId": "7fc6f6c0-cd84-4c15-88cc-72012263644e"
      },
      "execution_count": 12,
      "outputs": [
        {
          "output_type": "stream",
          "name": "stdout",
          "text": [
            "Epoch 1/20\n",
            "\u001b[1m4/4\u001b[0m \u001b[32m━━━━━━━━━━━━━━━━━━━━\u001b[0m\u001b[37m\u001b[0m \u001b[1m6s\u001b[0m 411ms/step - accuracy: 0.3500 - loss: 1.6026 - val_accuracy: 0.8000 - val_loss: 1.5535\n",
            "Epoch 2/20\n",
            "\u001b[1m4/4\u001b[0m \u001b[32m━━━━━━━━━━━━━━━━━━━━\u001b[0m\u001b[37m\u001b[0m \u001b[1m0s\u001b[0m 55ms/step - accuracy: 0.7438 - loss: 1.5414 - val_accuracy: 0.8000 - val_loss: 1.4890\n",
            "Epoch 3/20\n",
            "\u001b[1m4/4\u001b[0m \u001b[32m━━━━━━━━━━━━━━━━━━━━\u001b[0m\u001b[37m\u001b[0m \u001b[1m0s\u001b[0m 62ms/step - accuracy: 0.7571 - loss: 1.4699 - val_accuracy: 0.8000 - val_loss: 1.4067\n",
            "Epoch 4/20\n",
            "\u001b[1m4/4\u001b[0m \u001b[32m━━━━━━━━━━━━━━━━━━━━\u001b[0m\u001b[37m\u001b[0m \u001b[1m1s\u001b[0m 150ms/step - accuracy: 0.7288 - loss: 1.3843 - val_accuracy: 0.8000 - val_loss: 1.2963\n",
            "Epoch 5/20\n",
            "\u001b[1m4/4\u001b[0m \u001b[32m━━━━━━━━━━━━━━━━━━━━\u001b[0m\u001b[37m\u001b[0m \u001b[1m0s\u001b[0m 50ms/step - accuracy: 0.7421 - loss: 1.2591 - val_accuracy: 0.8000 - val_loss: 1.1479\n",
            "Epoch 6/20\n",
            "\u001b[1m4/4\u001b[0m \u001b[32m━━━━━━━━━━━━━━━━━━━━\u001b[0m\u001b[37m\u001b[0m \u001b[1m0s\u001b[0m 34ms/step - accuracy: 0.7471 - loss: 1.1089 - val_accuracy: 0.8000 - val_loss: 0.9653\n",
            "Epoch 7/20\n",
            "\u001b[1m4/4\u001b[0m \u001b[32m━━━━━━━━━━━━━━━━━━━━\u001b[0m\u001b[37m\u001b[0m \u001b[1m0s\u001b[0m 32ms/step - accuracy: 0.7621 - loss: 0.9019 - val_accuracy: 0.8000 - val_loss: 0.7900\n",
            "Epoch 8/20\n",
            "\u001b[1m4/4\u001b[0m \u001b[32m━━━━━━━━━━━━━━━━━━━━\u001b[0m\u001b[37m\u001b[0m \u001b[1m0s\u001b[0m 36ms/step - accuracy: 0.7438 - loss: 0.8153 - val_accuracy: 0.8000 - val_loss: 0.6808\n",
            "Epoch 9/20\n",
            "\u001b[1m4/4\u001b[0m \u001b[32m━━━━━━━━━━━━━━━━━━━━\u001b[0m\u001b[37m\u001b[0m \u001b[1m0s\u001b[0m 34ms/step - accuracy: 0.7321 - loss: 0.7660 - val_accuracy: 0.8000 - val_loss: 0.6277\n",
            "Epoch 10/20\n",
            "\u001b[1m4/4\u001b[0m \u001b[32m━━━━━━━━━━━━━━━━━━━━\u001b[0m\u001b[37m\u001b[0m \u001b[1m0s\u001b[0m 29ms/step - accuracy: 0.7471 - loss: 0.7191 - val_accuracy: 0.8000 - val_loss: 0.6040\n",
            "Epoch 11/20\n",
            "\u001b[1m4/4\u001b[0m \u001b[32m━━━━━━━━━━━━━━━━━━━━\u001b[0m\u001b[37m\u001b[0m \u001b[1m0s\u001b[0m 31ms/step - accuracy: 0.7388 - loss: 0.6998 - val_accuracy: 0.8000 - val_loss: 0.6027\n",
            "Epoch 12/20\n",
            "\u001b[1m4/4\u001b[0m \u001b[32m━━━━━━━━━━━━━━━━━━━━\u001b[0m\u001b[37m\u001b[0m \u001b[1m0s\u001b[0m 43ms/step - accuracy: 0.7288 - loss: 0.6937 - val_accuracy: 0.9000 - val_loss: 0.6089\n",
            "Epoch 13/20\n",
            "\u001b[1m4/4\u001b[0m \u001b[32m━━━━━━━━━━━━━━━━━━━━\u001b[0m\u001b[37m\u001b[0m \u001b[1m0s\u001b[0m 51ms/step - accuracy: 0.8148 - loss: 0.6594 - val_accuracy: 0.8500 - val_loss: 0.6078\n",
            "Epoch 14/20\n",
            "\u001b[1m4/4\u001b[0m \u001b[32m━━━━━━━━━━━━━━━━━━━━\u001b[0m\u001b[37m\u001b[0m \u001b[1m0s\u001b[0m 30ms/step - accuracy: 0.8471 - loss: 0.6332 - val_accuracy: 0.8500 - val_loss: 0.5973\n",
            "Epoch 15/20\n",
            "\u001b[1m4/4\u001b[0m \u001b[32m━━━━━━━━━━━━━━━━━━━━\u001b[0m\u001b[37m\u001b[0m \u001b[1m0s\u001b[0m 54ms/step - accuracy: 0.8481 - loss: 0.6136 - val_accuracy: 0.8500 - val_loss: 0.5870\n",
            "Epoch 16/20\n",
            "\u001b[1m4/4\u001b[0m \u001b[32m━━━━━━━━━━━━━━━━━━━━\u001b[0m\u001b[37m\u001b[0m \u001b[1m0s\u001b[0m 35ms/step - accuracy: 0.8000 - loss: 0.6476 - val_accuracy: 0.8500 - val_loss: 0.5807\n",
            "Epoch 17/20\n",
            "\u001b[1m4/4\u001b[0m \u001b[32m━━━━━━━━━━━━━━━━━━━━\u001b[0m\u001b[37m\u001b[0m \u001b[1m0s\u001b[0m 30ms/step - accuracy: 0.8000 - loss: 0.6449 - val_accuracy: 0.8500 - val_loss: 0.5766\n",
            "Epoch 18/20\n",
            "\u001b[1m4/4\u001b[0m \u001b[32m━━━━━━━━━━━━━━━━━━━━\u001b[0m\u001b[37m\u001b[0m \u001b[1m0s\u001b[0m 78ms/step - accuracy: 0.8000 - loss: 0.6131 - val_accuracy: 0.8500 - val_loss: 0.5715\n",
            "Epoch 19/20\n",
            "\u001b[1m4/4\u001b[0m \u001b[32m━━━━━━━━━━━━━━━━━━━━\u001b[0m\u001b[37m\u001b[0m \u001b[1m0s\u001b[0m 28ms/step - accuracy: 0.8000 - loss: 0.6004 - val_accuracy: 0.8500 - val_loss: 0.5652\n",
            "Epoch 20/20\n",
            "\u001b[1m4/4\u001b[0m \u001b[32m━━━━━━━━━━━━━━━━━━━━\u001b[0m\u001b[37m\u001b[0m \u001b[1m0s\u001b[0m 31ms/step - accuracy: 0.8198 - loss: 0.5988 - val_accuracy: 0.8500 - val_loss: 0.5590\n"
          ]
        }
      ]
    },
    {
      "cell_type": "code",
      "source": [
        "def predict_entities(sentence):\n",
        "    \"\"\"\n",
        "    Predict NER tags for a given input sentence.\n",
        "    Arguments:\n",
        "    - sentence: string (a sentence to predict NER tags on)\n",
        "\n",
        "    Returns:\n",
        "    - list of tuples: (word, predicted_tag)\n",
        "    \"\"\"\n",
        "    words = sentence.split()\n",
        "    # Convert words to indices, using UNK token for unknown words\n",
        "    tokens = [word2idx.get(word, word2idx[\"UNK\"]) for word in words]\n",
        "    tokens_padded = pad_sequences([tokens], maxlen=max_seq_len, padding='post', value=word2idx[\"PAD\"])\n",
        "\n",
        "    pred_probs = model.predict(tokens_padded)[0]\n",
        "    pred_indices = np.argmax(pred_probs, axis=-1)\n",
        "\n",
        "    # Map predicted indices to tags, cut to original sentence length\n",
        "    pred_tags = [idx2tag[idx] for idx in pred_indices[:len(words)]]\n",
        "\n",
        "    return list(zip(words, pred_tags))"
      ],
      "metadata": {
        "id": "SoeAS4K6Us45"
      },
      "execution_count": 13,
      "outputs": []
    },
    {
      "cell_type": "code",
      "source": [
        "  # Example test\n",
        "test_sentence = \"Mary lives in Paris\"\n",
        "print(predict_entities(test_sentence))"
      ],
      "metadata": {
        "colab": {
          "base_uri": "https://localhost:8080/"
        },
        "id": "JVkUD2Z_U0mV",
        "outputId": "a5d3fa16-f4da-4656-f454-555c4ce68335"
      },
      "execution_count": 14,
      "outputs": [
        {
          "output_type": "stream",
          "name": "stdout",
          "text": [
            "\u001b[1m1/1\u001b[0m \u001b[32m━━━━━━━━━━━━━━━━━━━━\u001b[0m\u001b[37m\u001b[0m \u001b[1m1s\u001b[0m 599ms/step\n",
            "[('Mary', 'B-PER'), ('lives', 'O'), ('in', 'O'), ('Paris', 'O')]\n"
          ]
        }
      ]
    },
    {
      "cell_type": "code",
      "source": [],
      "metadata": {
        "id": "BejLzjL8U5FU"
      },
      "execution_count": null,
      "outputs": []
    }
  ]
}